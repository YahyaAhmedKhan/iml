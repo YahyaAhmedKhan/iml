{
 "cells": [
  {
   "cell_type": "code",
   "execution_count": null,
   "metadata": {},
   "outputs": [],
   "source": [
    "import sklearn\n",
    "sklearn.__version__"
   ]
  },
  {
   "cell_type": "code",
   "execution_count": null,
   "metadata": {},
   "outputs": [],
   "source": [
    "import pandas as pd   \n",
    "from matplotlib import pyplot\n",
    "from numpy import mean\n",
    "import time\n",
    "\n",
    "\n",
    "from sklearn.tree import DecisionTreeClassifier\n",
    "from sklearn.neighbors import KNeighborsClassifier\n",
    "\n",
    "from sklearn.model_selection import train_test_split, RepeatedKFold, GridSearchCV, cross_val_score\n",
    "from sklearn.metrics import roc_curve, roc_auc_score\n",
    "from sklearn.preprocessing import MinMaxScaler\n",
    "\n"
   ]
  },
  {
   "cell_type": "code",
   "execution_count": null,
   "metadata": {},
   "outputs": [],
   "source": [
    "df1 = pd.read_csv(\"train.csv\")\n",
    "df1.head()\n",
    "df1.drop(['RecordID', 'hospital_id'], axis=1, inplace=True)\n"
   ]
  },
  {
   "cell_type": "code",
   "execution_count": null,
   "metadata": {},
   "outputs": [],
   "source": [
    "print(df1.shape)\n",
    "print(df1.dtypes)"
   ]
  },
  {
   "cell_type": "code",
   "execution_count": null,
   "metadata": {},
   "outputs": [],
   "source": [
    "# df_onehot = pd.get_dummies(df1)\n",
    "# print(df_onehot.dtypes)\n",
    "# print(df_onehot.shape)"
   ]
  },
  {
   "cell_type": "code",
   "execution_count": null,
   "metadata": {},
   "outputs": [],
   "source": [
    "import pandas as pd\n",
    "import numpy as np\n",
    "from sklearn.impute import SimpleImputer, KNNImputer\n",
    "\n",
    "def impute_dataframe(df):\n",
    "    # Identify numerical and categorical columns\n",
    "    numerical_columns = df.select_dtypes(include=[np.number]).columns\n",
    "    categorical_columns = df.select_dtypes(exclude=[np.number]).columns\n",
    "\n",
    "    # Perform mean imputation on numerical columns\n",
    "    numerical_imputer = SimpleImputer(strategy='mean')\n",
    "    df[numerical_columns] = numerical_imputer.fit_transform(df[numerical_columns])\n",
    "\n",
    "    # Create a DataFrame containing only the categorical columns\n",
    "    categorical_df = df[categorical_columns]\n",
    "\n",
    "    # Perform one-hot encoding on categorical columns\n",
    "    categorical_df = pd.get_dummies(categorical_df)\n",
    "\n",
    "    # Convert all column dtypes to binary (int64)\n",
    "    categorical_df = categorical_df.astype('int64')\n",
    "\n",
    "    # Perform K-nearest neighbor imputation on categorical columns\n",
    "    knn_imputer = KNNImputer(n_neighbors=5)\n",
    "    categorical_df = knn_imputer.fit_transform(categorical_df)\n",
    "    categorical_df = pd.DataFrame(categorical_df)\n",
    "\n",
    "    # Convert the result back to a DataFrame with original column names\n",
    "    categorical_df = pd.DataFrame(categorical_df, columns=categorical_df.columns)\n",
    "\n",
    "    # Combine the imputed numerical and categorical DataFrames\n",
    "    imputed_df = pd.concat([df[numerical_columns], categorical_df], axis=1)\n",
    "\n",
    "    return imputed_df\n",
    " \n",
    "# imputed_df = impute_dataframe(df1)\n",
    "# imputed_df.head()\n",
    "# imputed_df.shape\n",
    "\n",
    "\n"
   ]
  },
  {
   "cell_type": "code",
   "execution_count": null,
   "metadata": {},
   "outputs": [],
   "source": [
    "\n",
    "def missing_value_counts(dataframe):\n",
    "    # Calculate the count of missing values in each column\n",
    "    missing_counts = dataframe.isnull().sum()\n",
    "\n",
    "    # Create a DataFrame to display the results\n",
    "    missing_counts_df = pd.DataFrame({'Column': missing_counts.index, 'Missing_Values_Count': missing_counts.values})\n",
    "\n",
    "    return missing_counts_df\n",
    "\n",
    "missing_value_counts(imputed_df)"
   ]
  },
  {
   "cell_type": "code",
   "execution_count": null,
   "metadata": {},
   "outputs": [],
   "source": []
  },
  {
   "cell_type": "code",
   "execution_count": null,
   "metadata": {},
   "outputs": [],
   "source": [
    "X = imputed_df.loc[:, imputed_df.columns != \"hospital_death\"]\n",
    "y = imputed_df[[\"hospital_death\"]]\n",
    "# Convert integer column names to strings\n",
    "X.columns = testX.columns.astype(str)\n",
    "X.dtypes\n"
   ]
  },
  {
   "cell_type": "code",
   "execution_count": null,
   "metadata": {},
   "outputs": [],
   "source": [
    "trainX, testX, trainy, testy = train_test_split(X, y, test_size=0.1, random_state=2)\n",
    "\n",
    " "
   ]
  },
  {
   "cell_type": "code",
   "execution_count": null,
   "metadata": {},
   "outputs": [],
   "source": [
    "from sklearn.neighbors import KNeighborsClassifier\n",
    "\n",
    "# Create a K-nearest neighbors model with 5 neighbors\n",
    "knn_model = KNeighborsClassifier(n_neighbors=300)\n",
    "\n",
    "# Fit the model on the training data\n",
    "knn_model.fit(trainX, trainy)\n",
    "\n",
    "md_probs = knn_model.predict_proba(testX)\n",
    "\n",
    "print(md_probs)\n",
    "\n",
    "md_probs = md_probs[:,1]\n",
    "print(md_probs)\n"
   ]
  },
  {
   "cell_type": "code",
   "execution_count": null,
   "metadata": {},
   "outputs": [],
   "source": [
    "md_auc = roc_auc_score(testy, md_probs)\n",
    "md_auc"
   ]
  },
  {
   "cell_type": "code",
   "execution_count": null,
   "metadata": {},
   "outputs": [],
   "source": [
    "# def fit_model(model, model_name):\n",
    "#     model.fit(trainX,trainy)\n",
    "#     md_probs = model.predict_proba(testX)\n",
    "#     md_probs = md_probs[:,1]\n",
    "#     md_auc = roc_auc_score(testy, md_probs)\n",
    "#     print(model_name, \" : \", md_auc)\n",
    "#     md_fpr, md_tpr, _ = roc_curve(testy, md_probs)\n",
    "#     pyplot.plot(md_fpr, md_tpr, marker='.', label=model_name)\n",
    "#     #return (md_fpr, md_tpr)\n",
    "    "
   ]
  },
  {
   "cell_type": "code",
   "execution_count": null,
   "metadata": {},
   "outputs": [],
   "source": [
    "# def fitting_models_CV2(X, y):\n",
    "#     cv = RepeatedKFold(n_splits=10, n_repeats=2)\n",
    "    \n",
    "#     # dt_5_2 = DecisionTreeClassifier(max_depth=5, )  \n",
    "#     # dt_7_2 = DecisionTreeClassifier(max_depth=7)  \n",
    "#     # dt_5_5 = DecisionTreeClassifier(max_depth=5, min_samples_split=5)  \n",
    "#     # dt_7_5 = DecisionTreeClassifier(max_depth=7, min_samples_split=5)  \n",
    "#     dt_7_3 = DecisionTreeClassifier(max_depth=7, min_samples_split=3)  \n",
    "#     clfs = [\n",
    "#             # ('Depth 5 Split 2', dt_5_2),        \n",
    "#             # ('Depth 7 Split 2', dt_7_2),        \n",
    "#             # ('Depth 5 Split 5', dt_5_5),\n",
    "#             # ('Depth 7 Split 5', dt_7_5),\n",
    "#             ('Depth 10 Split 2', dt_7_3)\n",
    "            \n",
    "#            ]\n",
    "\n",
    "#     models = []\n",
    "#     for name, clf in clfs:\n",
    "#         clf.fit(X, y)  # Fit the model to your data\n",
    "#         models.append((name, clf))  # Store the trained model\n",
    "        \n",
    "#         start = time.perf_counter()\n",
    "#         accuracy = cross_val_score(clf, X, y, scoring=\"accuracy\", cv=cv, n_jobs=-1)\n",
    "#         scores = cross_val_score(clf, X, y, scoring=\"roc_auc\", cv=cv, n_jobs=-1) \n",
    "#         end = time.perf_counter()        \n",
    "#         score = format(mean(scores), '.4f')\n",
    "#         duration = format((end-start), '.4f')\n",
    "#         accuracy = format(mean(accuracy), '.4f')\n",
    "        \n",
    "#         print(\"{} : score:{} - time taken:{} - accuracy:{}\".format(name, score, duration, accuracy))\n",
    "    \n",
    "#     return models\n"
   ]
  },
  {
   "cell_type": "code",
   "execution_count": null,
   "metadata": {},
   "outputs": [],
   "source": [
    "# models = fitting_models_CV2(X,y)\n"
   ]
  },
  {
   "cell_type": "code",
   "execution_count": null,
   "metadata": {},
   "outputs": [],
   "source": [
    "# models\n",
    "# for name, model in models:\n",
    "#     print(type(model))\n",
    "#     model.predict_proba(testX)\n",
    "    \n",
    "    \n"
   ]
  },
  {
   "cell_type": "code",
   "execution_count": null,
   "metadata": {},
   "outputs": [],
   "source": [
    "# import numpy as np\n",
    "\n",
    "# def generate_predictions(models, test_file):\n",
    "#     df_test = pd.read_csv(test_file)\n",
    "#     df_test_onehot = pd.get_dummies(df_test)\n",
    "#     X_test = df_test_onehot.loc[:, df_test_onehot.columns != \"hospital_death\"]\n",
    "#     record_ids = df_test[\"RecordID\"]\n",
    "#     predictions = []\n",
    "#     for name, model in models:\n",
    "        \n",
    "#         probs = model.predict_proba(X_test)\n",
    "#         probs = probs[:,1]\n",
    "#         predictions.append(probs)\n",
    "#     predictions = np.array(predictions)\n",
    "#     predictions = np.mean(predictions, axis=0)\n",
    "#     result = pd.DataFrame({'RecordID': record_ids, 'hospital_death': predictions})\n",
    "#     return result\n",
    "\n",
    "\n",
    "# results = generate_predictions(models, \"test.csv\")\n",
    "# results.to_csv(\"results.csv\", index=False, header=[\"RecordID\", \"hospital_death\"])\n"
   ]
  },
  {
   "cell_type": "code",
   "execution_count": null,
   "metadata": {},
   "outputs": [],
   "source": [
    "def generate_predictions_for_model(model, test_file, output_file):\n",
    "    # Load the test data\n",
    "    df_test = pd.read_csv(test_file)\n",
    "    df_test_imputed = impute_dataframe(df_test)\n",
    "    \n",
    "    X_test = df_test_imputed\n",
    "    X_test.drop(['RecordID', 'hospital_id'], axis=1, inplace=True)\n",
    "    X_test.columns = X_test.columns.astype(str)\n",
    "\n",
    "    record_ids = df_test[\"RecordID\"]\n",
    "    \n",
    "    # Generate predictions using the model\n",
    "    probs = model.predict_proba(X_test)\n",
    "    probs = probs[:, 1]\n",
    "    \n",
    "    # Create a DataFrame for the results\n",
    "    result = pd.DataFrame({'RecordID': record_ids, 'hospital_death': probs})\n",
    "    \n",
    "    # Save the results to a CSV file\n",
    "    result.to_csv(output_file, index=False, header=[\"RecordID\", \"hospital_death\"])\n",
    "    \n",
    "# generate_predictions_for_model(knn_model, \"test.csv\", \"results.csv\")\n"
   ]
  },
  {
   "cell_type": "code",
   "execution_count": null,
   "metadata": {},
   "outputs": [],
   "source": []
  },
  {
   "cell_type": "markdown",
   "metadata": {},
   "source": []
  },
  {
   "cell_type": "markdown",
   "metadata": {},
   "source": []
  }
 ],
 "metadata": {
  "kernelspec": {
   "display_name": "imlenv",
   "language": "python",
   "name": "python3"
  },
  "language_info": {
   "codemirror_mode": {
    "name": "ipython",
    "version": 3
   },
   "file_extension": ".py",
   "mimetype": "text/x-python",
   "name": "python",
   "nbconvert_exporter": "python",
   "pygments_lexer": "ipython3",
   "version": "3.10.12"
  },
  "orig_nbformat": 4
 },
 "nbformat": 4,
 "nbformat_minor": 2
}
