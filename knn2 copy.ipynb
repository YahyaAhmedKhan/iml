{
 "cells": [
  {
   "cell_type": "code",
   "execution_count": 9,
   "metadata": {},
   "outputs": [],
   "source": [
    "import sklearn\n",
    "import time\n",
    "import pandas as pd   \n",
    "from matplotlib import pyplot\n",
    "from numpy import mean\n",
    "from sklearn.tree import DecisionTreeClassifier\n",
    "from sklearn.neighbors import KNeighborsClassifier\n",
    "\n",
    "from sklearn.model_selection import train_test_split, RepeatedKFold, GridSearchCV, cross_val_score\n",
    "from sklearn.metrics import roc_curve, roc_auc_score\n",
    "from sklearn.preprocessing import MinMaxScaler, RobustScaler, StandardScaler\n",
    "from sklearn.impute import KNNImputer, SimpleImputer\n",
    "from sklearn.preprocessing import LabelEncoder\n",
    "from sklearn.naive_bayes import GaussianNB, CategoricalNB\n",
    "import numpy as np\n",
    "\n"
   ]
  },
  {
   "cell_type": "code",
   "execution_count": 10,
   "metadata": {},
   "outputs": [],
   "source": [
    "\n",
    "def missing_value_counts(dataframe):\n",
    "    missing_counts = dataframe.isnull().sum()\n",
    "    missing_counts_df = pd.DataFrame({'Column': missing_counts.index, 'Missing_Values_Count': missing_counts.values})\n",
    "    return missing_counts_df"
   ]
  },
  {
   "cell_type": "code",
   "execution_count": 11,
   "metadata": {},
   "outputs": [],
   "source": [
    "def robust_scale(df):\n",
    "    numerical_columns = df.select_dtypes(include=['number']).columns\n",
    "    scaler = RobustScaler()\n",
    "    df[numerical_columns] = scaler.fit_transform(df[numerical_columns])\n",
    "\n",
    "    return df"
   ]
  },
  {
   "cell_type": "code",
   "execution_count": 12,
   "metadata": {},
   "outputs": [],
   "source": [
    "def knn_impute_numerical_columns(df, n_neighbors=5):\n",
    "    df_imputed = df.copy()\n",
    "    numerical_cols = df_imputed.select_dtypes(include=['number']).columns\n",
    "    imputer = KNNImputer(n_neighbors=n_neighbors)\n",
    "    df_imputed[numerical_cols] = imputer.fit_transform(df_imputed[numerical_cols])\n",
    "    return df_imputed\n"
   ]
  },
  {
   "cell_type": "code",
   "execution_count": 13,
   "metadata": {},
   "outputs": [],
   "source": [
    "df = pd.read_csv('train.csv')"
   ]
  },
  {
   "cell_type": "code",
   "execution_count": 15,
   "metadata": {},
   "outputs": [],
   "source": [
    "# robust_scale(df)"
   ]
  },
  {
   "cell_type": "code",
   "execution_count": 16,
   "metadata": {},
   "outputs": [],
   "source": [
    "df_imputed = knn_impute_numerical_columns(df, n_neighbors=15)"
   ]
  },
  {
   "cell_type": "code",
   "execution_count": 17,
   "metadata": {},
   "outputs": [],
   "source": [
    "# missing_value_counts(df_imputed)\n",
    "df_imputed_copy = df_imputed.copy()"
   ]
  },
  {
   "cell_type": "code",
   "execution_count": null,
   "metadata": {},
   "outputs": [],
   "source": [
    "# missing_value_counts(df_imputed)"
   ]
  },
  {
   "cell_type": "code",
   "execution_count": 18,
   "metadata": {},
   "outputs": [
    {
     "data": {
      "text/plain": [
       "(49103, 58)"
      ]
     },
     "execution_count": 18,
     "metadata": {},
     "output_type": "execute_result"
    }
   ],
   "source": [
    "df_dropped = df_imputed.copy().dropna(axis=0)\n",
    "df_dropped.shape\n",
    "# missing_value_counts(df_dropped)"
   ]
  },
  {
   "cell_type": "code",
   "execution_count": 19,
   "metadata": {},
   "outputs": [
    {
     "data": {
      "text/plain": [
       "(49103, 58)"
      ]
     },
     "execution_count": 19,
     "metadata": {},
     "output_type": "execute_result"
    }
   ],
   "source": [
    "df_dropped.shape"
   ]
  },
  {
   "cell_type": "code",
   "execution_count": 20,
   "metadata": {},
   "outputs": [
    {
     "data": {
      "text/plain": [
       "(49103, 96)"
      ]
     },
     "execution_count": 20,
     "metadata": {},
     "output_type": "execute_result"
    }
   ],
   "source": [
    "df_onehot = pd.get_dummies(df_dropped)\n",
    "df_onehot\n",
    "df_onehot.shape"
   ]
  },
  {
   "cell_type": "code",
   "execution_count": 21,
   "metadata": {},
   "outputs": [
    {
     "data": {
      "text/plain": [
       "(49103, 95)"
      ]
     },
     "execution_count": 21,
     "metadata": {},
     "output_type": "execute_result"
    }
   ],
   "source": [
    "X = df_onehot.loc[:, df_onehot.columns != \"hospital_death\"]\n",
    "y = df_onehot[[\"hospital_death\"]]\n",
    "\n",
    "X.shape"
   ]
  },
  {
   "cell_type": "code",
   "execution_count": null,
   "metadata": {},
   "outputs": [],
   "source": [
    "model = DecisionTreeClassifier(max_depth=5, min_samples_leaf=3, min_samples_split=3)\n",
    "\n",
    "model.fit(X, y) \n",
    "\n",
    "feature_importances = model.feature_importances_\n",
    "\n",
    "feature_importance_df = pd.DataFrame({\n",
    "    'Feature': X.columns,\n",
    "    'Importance': feature_importances\n",
    "})\n",
    "\n",
    "feature_importance_df = feature_importance_df.sort_values(by='Importance', ascending=False)\n",
    "\n",
    "selected_features = feature_importance_df['Feature'][:500]"
   ]
  },
  {
   "cell_type": "code",
   "execution_count": 22,
   "metadata": {},
   "outputs": [],
   "source": [
    "X_train, X_test, y_train, y_test = train_test_split(X, y, test_size=0.2, random_state=10)\n"
   ]
  },
  {
   "cell_type": "code",
   "execution_count": 23,
   "metadata": {},
   "outputs": [],
   "source": [
    "def roc_auc_cv(model, X, y):\n",
    "    cv = RepeatedKFold(n_splits=10, n_repeats=2, random_state=1)\n",
    "    predicted_probabilities = cross_val_score(model, X, y, scoring=\"roc_auc\", cv=cv, n_jobs=-1)\n",
    "\n",
    "    return mean(predicted_probabilities)"
   ]
  },
  {
   "cell_type": "code",
   "execution_count": 24,
   "metadata": {},
   "outputs": [],
   "source": [
    "def calculate_roc_auc(model, X_test, y_test):\n",
    "    md_probs = model.predict_proba(X_test)\n",
    "    md_probs = md_probs[:, 1]\n",
    "    md_auc = roc_auc_score(y_test, md_probs)\n",
    "    return md_auc\n",
    "\n",
    "# roc_auc = calculate_roc_auc(model, X_test, y_test)\n",
    "# print(roc_auc)\n"
   ]
  },
  {
   "cell_type": "code",
   "execution_count": null,
   "metadata": {},
   "outputs": [],
   "source": []
  },
  {
   "cell_type": "code",
   "execution_count": null,
   "metadata": {},
   "outputs": [],
   "source": [
    "model  = KNeighborsClassifier(n_neighbors=300)\n",
    "model.fit(X_train, y_train)\n",
    "calculate_roc_auc(model, X_test, y_test)\n",
    "# roc_auc_cv(model, X, y)\n"
   ]
  },
  {
   "cell_type": "code",
   "execution_count": null,
   "metadata": {},
   "outputs": [],
   "source": [
    "model.fit(X, y)\n"
   ]
  },
  {
   "cell_type": "code",
   "execution_count": null,
   "metadata": {},
   "outputs": [],
   "source": [
    "knn_model = KNeighborsClassifier()\n",
    "\n",
    "param_grid = {\n",
    "    'n_neighbors': range(200, 321),  # Number of neighbors to consider\n",
    "    # 'weights': ['uniform', 'distance'],  # Weighting scheme ('uniform' or 'distance')\n",
    "}\n",
    "\n",
    "# Create the Grid Search object\n",
    "grid_search = GridSearchCV(knn_model, param_grid, cv=5, scoring='roc_auc', n_jobs=-1)\n",
    "\n",
    "# Fit the Grid Search to your data\n",
    "# grid_search.fit(X, y)\n",
    "\n",
    "# Print the best hyperparameters and corresponding ROC AUC score\n",
    "print(\"Best Parameters:\", grid_search.best_params_)\n",
    "print(\"Best ROC AUC Score:\", grid_search.best_score_)\n"
   ]
  },
  {
   "cell_type": "code",
   "execution_count": null,
   "metadata": {},
   "outputs": [],
   "source": [
    "def find_best_n_neighbors(model, X, y):\n",
    "    best_n_neighbors = 0\n",
    "    best_roc_auc = 0\n",
    "\n",
    "    for n_neighbors in range(200, 321):\n",
    "        # roc_auc = calculate_roc_auc(model, X_test, y_test)\n",
    "        roc_auc = roc_auc_cv(model, X, y)\n",
    "        \n",
    "        if roc_auc > best_roc_auc:\n",
    "            best_roc_auc = roc_auc\n",
    "            best_n_neighbors = n_neighbors\n",
    "\n",
    "    return best_n_neighbors, best_roc_auc\n",
    "\n",
    "# Example usage:\n",
    "best_n, best_roc_auc = find_best_n_neighbors(model, X, y)\n",
    "print(f\"Best n_neighbors: {best_n}\")\n",
    "print(f\"Best ROC AUC CV score: {best_roc_auc}\")\n"
   ]
  },
  {
   "cell_type": "code",
   "execution_count": null,
   "metadata": {},
   "outputs": [],
   "source": [
    "def generate_predictions_for_model(model, test_file, output_file):\n",
    "    \n",
    "    df_test = pd.read_csv(test_file)\n",
    "    record_ids = df_test[\"RecordID\"]\n",
    "    \n",
    "    df_scaled = robust_scale(df_test)\n",
    "    df_test_imputed = knn_impute_numerical_columns(df_scaled, n_neighbors=10)\n",
    "    # df_test_imputed = df_test_imputed.dropna(axis=0)\n",
    "    \n",
    "    df_test_onehot = pd.get_dummies(df_test_imputed)\n",
    "    \n",
    "    X_test = df_test_onehot.loc[:, df_test_onehot.columns != \"hospital_death\"]\n",
    "    \n",
    "    probs = model.predict_proba(X_test)\n",
    "    probs = probs[:, 1]\n",
    "    \n",
    "    # Create a DataFrame for the results\n",
    "    result = pd.DataFrame({'RecordID': record_ids, 'hospital_death': probs})\n",
    "    \n",
    "    # Save the results to a CSV file\n",
    "    result.to_csv(output_file, index=False, header=[\"RecordID\", \"hospital_death\"])\n"
   ]
  },
  {
   "cell_type": "code",
   "execution_count": null,
   "metadata": {},
   "outputs": [],
   "source": [
    "generate_predictions_for_model(model, \"test.csv\", \"results34.csv\")\n"
   ]
  }
 ],
 "metadata": {
  "kernelspec": {
   "display_name": "imlenv",
   "language": "python",
   "name": "python3"
  },
  "language_info": {
   "codemirror_mode": {
    "name": "ipython",
    "version": 3
   },
   "file_extension": ".py",
   "mimetype": "text/x-python",
   "name": "python",
   "nbconvert_exporter": "python",
   "pygments_lexer": "ipython3",
   "version": "3.10.12"
  },
  "orig_nbformat": 4
 },
 "nbformat": 4,
 "nbformat_minor": 2
}
